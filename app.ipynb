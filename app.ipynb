{
 "cells": [
  {
   "cell_type": "code",
   "execution_count": 22,
   "metadata": {},
   "outputs": [],
   "source": [
    "# Module imports so that functions can easily operate\n",
    "\n",
    "import pandas as pd\n",
    "from datetime import datetime\n",
    "import csv\n",
    "import numpy as np\n",
    "import matplotlib as plt\n",
    "from pandas import DataFrame\n",
    "import codecs"
   ]
  },
  {
   "cell_type": "code",
   "execution_count": 23,
   "metadata": {},
   "outputs": [],
   "source": [
    "# Creating a mechanism so that I can load function from other python modules\n",
    "\n",
    "\n",
    "import io, os, sys, types\n",
    "from IPython import get_ipython\n",
    "from nbformat import read\n",
    "from IPython.core.interactiveshell import InteractiveShell"
   ]
  },
  {
   "cell_type": "code",
   "execution_count": 27,
   "metadata": {},
   "outputs": [],
   "source": [
    "# all the functions in a cell. Later on they will be move to one notebook\n",
    "\n",
    "def fileopen (file, delimiter):\n",
    "    #ifile  = open(file, \"r\")\n",
    "    #read = csv.reader(ifile, delimiter = delimiter)\n",
    "    \n",
    "    datanew =[]\n",
    "    reader = codecs.open(file, 'r', encoding='utf-8', errors = \"ignore\")\n",
    "    for line in reader:\n",
    "        row = line.split(delimiter)\n",
    "        datanew.append(row)\n",
    "        \n",
    "    \n",
    "    # Convering list to dataframe    \n",
    "    data = DataFrame.from_records(datanew)\n",
    "\n",
    "    # all retun values of function\n",
    "    return (data.shape, data, data.columns.values)\n",
    "\n",
    "def datetimesplit(dataframe,col_name,time_index_name,Date_Index_name,Splitter):\n",
    "    s = list(dataframe[col_name])\n",
    "    new_date = []\n",
    "    new_time = []\n",
    "    for row in s:\n",
    "        if (row == col_name):\n",
    "            continue\n",
    "        else:\n",
    "            date,time = row.split(splitter)\n",
    "            new_date.append(date)\n",
    "            new_time.append(time)\n",
    "    # List to series    \n",
    "    se = pd.Series(new_date)\n",
    "    se2 = pd.Series(new_time)\n",
    "    # Insertion into dataframe\n",
    "    Dataframe.insert(loc=0, column = time_index_name, value=se2)\n",
    "    Dataframe.insert(loc=0, column=Date_Index_name, value=se)\n",
    "\n",
    "def allpresent(dataframe1, dataframe2, col_name1, col_name2):\n",
    "    SeriA = dataframe1[col_name1]\n",
    "    SeriB = dataframe2[col_name2]\n",
    "    \n",
    "    if (len(SeriA)>len(SeriB)):\n",
    "        a = list(set(SeriA).intersection(set(SeriB)))\n",
    "        diff = SeriB.difference(a)\n",
    "    else:\n",
    "        a = list(set(SeriB).intersection(set(SeriA)))\n",
    "        diff = SeriA.difference(a)\n",
    "    return(a,diff,len(a),len(diff))"
   ]
  },
  {
   "cell_type": "code",
   "execution_count": 28,
   "metadata": {},
   "outputs": [],
   "source": [
    "# Shorthanding of all file names\n",
    "\n",
    "file1 = \"ETO_OFR_USR_SMS_ARCH_PAID.csv\"\n",
    "file2 = \"USER_PRODUCTS.csv\"\n",
    "file3 = \"USER_MCAT_MAPP.csv\"\n",
    "file4 = \"USER_MASTER.csv\"\n",
    "file5 = \"OFR_DATA_PART.csv\"\n",
    "file6 = \"LEAD_PUR_TAB.csv\""
   ]
  },
  {
   "cell_type": "code",
   "execution_count": 31,
   "metadata": {},
   "outputs": [],
   "source": [
    "sms_shape, sms , sms_Col = fileopen(file4,\"#\")\n",
    "\n"
   ]
  },
  {
   "cell_type": "code",
   "execution_count": 30,
   "metadata": {},
   "outputs": [
    {
     "name": "stdout",
     "output_type": "stream",
     "text": [
      "                 0                1                 2                     3   \\\n",
      "0  ETO_TRD_ALERT_ID  FK_GLUSR_USR_ID  FK_GLCAT_MCAT_ID    ETO_TRD_ALERT_DATE   \n",
      "1          61572501          3804464             13799  06-JUN-2017 23:25:39   \n",
      "2          61572516          8775423             29824  06-JUN-2017 23:25:39   \n",
      "3          61572528          8775423               329  06-JUN-2017 23:25:39   \n",
      "4          61572531         20031763             22760  06-JUN-2017 23:25:39   \n",
      "\n",
      "                  4                        5                 6   \\\n",
      "0  ETO_TRD_ALERT_TYP  ETO_TRD_ALERT_LAST_SENT  ETO_TRD_ALERT_BY   \n",
      "1                  B                                          0   \n",
      "2                  B                                          0   \n",
      "3                  B                                          0   \n",
      "4                  B                                          0   \n",
      "\n",
      "                          7                   8                   9  ...  \\\n",
      "0  ETO_TRD_ALERT_DISABLED_BY  ETO_TRD_ALERT_MODE  ETO_TRD_ALERT_RANK ...   \n",
      "1                                              1                   A ...   \n",
      "2                                              1                   C ...   \n",
      "3                                              1                   C ...   \n",
      "4                                              1                   A ...   \n",
      "\n",
      "                         14                            15  \\\n",
      "0  ETO_TRD_ALERT_RANK_CLICK  ETO_TRD_ALERT_RANK_SHORTLIST   \n",
      "1                                                           \n",
      "2                                                           \n",
      "3                                                           \n",
      "4                                                           \n",
      "\n",
      "                             16                        17  \\\n",
      "0  ETO_TRD_ALERT_RANK_COMPOSITE  ETO_BL_ALERT_EMAIL_LIMIT   \n",
      "1                             D                       169   \n",
      "2                             D                         2   \n",
      "3                             D                         2   \n",
      "4                             D                         4   \n",
      "\n",
      "                       18                             19               20  \\\n",
      "0  ETO_BL_ALERT_SMS_LIMIT  ETO_BL_ALERT_APP_NOTIFY_LIMIT  GLCAT_MCAT_NAME   \n",
      "1                     168                             24      Clay Figure   \n",
      "2                     168                             12   Grinding Belts   \n",
      "3                     168                             12  Abrasive Wheels   \n",
      "4                     168                              2        Backpacks   \n",
      "\n",
      "                   21                     22  23  \n",
      "0  GLUSR_USR_LOC_PREF  GLUSR_USR_CUSTTYPE_ID  \\n  \n",
      "1                   1                      1  \\n  \n",
      "2                   2                      1  \\n  \n",
      "3                   2                      1  \\n  \n",
      "4                   2                     12  \\n  \n",
      "\n",
      "[5 rows x 24 columns]\n"
     ]
    }
   ],
   "source": [
    "sms_shape, sms , sms_Col = fileopen(file3,\"#\")\n",
    "print(sms.head(5))"
   ]
  },
  {
   "cell_type": "code",
   "execution_count": null,
   "metadata": {},
   "outputs": [],
   "source": []
  }
 ],
 "metadata": {
  "kernelspec": {
   "display_name": "Python 3",
   "language": "python",
   "name": "python3"
  },
  "language_info": {
   "codemirror_mode": {
    "name": "ipython",
    "version": 3
   },
   "file_extension": ".py",
   "mimetype": "text/x-python",
   "name": "python",
   "nbconvert_exporter": "python",
   "pygments_lexer": "ipython3",
   "version": "3.5.3"
  }
 },
 "nbformat": 4,
 "nbformat_minor": 2
}
