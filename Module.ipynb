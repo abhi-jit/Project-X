{
 "cells": [
  {
   "cell_type": "code",
   "execution_count": 1,
   "metadata": {},
   "outputs": [],
   "source": [
    "def fileopen (file, delimiter):\n",
    "    ifile  = open(file, \"r\")\n",
    "    read = csv.reader(ifile, delimiter = delimiter)\n",
    "    i = 0\n",
    "    datanew =[]\n",
    "    \n",
    "    with open('OFR_MAPPING.csv', newline='', encoding='utf-8') as f:\n",
    "    reader = csv.reader(f, delimiter = \"#\")\n",
    "    for row in reader:\n",
    "        datanew.append(row)\n",
    "    \n",
    "    # Convering list to dataframe    \n",
    "    data = DataFrame.from_records(datanew)\n",
    "\n",
    "    # all retun values of function\n",
    "    return (data.shape, data, data.columns)\n",
    "\n",
    "    "
   ]
  },
  {
   "cell_type": "code",
   "execution_count": 4,
   "metadata": {},
   "outputs": [],
   "source": [
    "def datetimesplit(dataframe,col_name,time_index_name,Date_Index_name,Splitter):\n",
    "    s = list(dataframe[col_name])\n",
    "    new_date = []\n",
    "    new_time = []\n",
    "    for row in s:\n",
    "        if (row == col_name):\n",
    "            continue\n",
    "        else:\n",
    "            date,time = row.split(splitter)\n",
    "            new_date.append(date)\n",
    "            new_time.append(time)\n",
    "    # List to series    \n",
    "    se = pd.Series(new_date)\n",
    "    se2 = pd.Series(new_time)\n",
    "    # Insertion into dataframe\n",
    "    Dataframe.insert(loc=0, column = time_index_name, value=se2)\n",
    "    Dataframe.insert(loc=0, column=Date_Index_name, value=se)"
   ]
  },
  {
   "cell_type": "code",
   "execution_count": 7,
   "metadata": {},
   "outputs": [],
   "source": [
    "def allpresent(dataframe1, dataframe2, col_name1, col_name2):\n",
    "    SeriA = dataframe1[col_name1]\n",
    "    SeriB = dataframe2[col_name2]\n",
    "    \n",
    "    if (len(SeriA)>len(SeriB)):\n",
    "        a = list(set(SeriA).intersection(set(SeriB)))\n",
    "        diff = SeriB.difference(a)\n",
    "    else:\n",
    "        a = list(set(SeriB).intersection(set(SeriA)))\n",
    "        diff = SeriA.difference(a)\n",
    "    return(a,diff,len(a),len(diff))\n",
    "    \n",
    "    "
   ]
  },
  {
   "cell_type": "code",
   "execution_count": null,
   "metadata": {},
   "outputs": [],
   "source": []
  }
 ],
 "metadata": {
  "kernelspec": {
   "display_name": "Python 3",
   "language": "python",
   "name": "python3"
  },
  "language_info": {
   "codemirror_mode": {
    "name": "ipython",
    "version": 3
   },
   "file_extension": ".py",
   "mimetype": "text/x-python",
   "name": "python",
   "nbconvert_exporter": "python",
   "pygments_lexer": "ipython3",
   "version": "3.5.3"
  }
 },
 "nbformat": 4,
 "nbformat_minor": 2
}
